{
 "cells": [
  {
   "cell_type": "code",
   "execution_count": 2,
   "id": "2c6f8dae-36e8-4fdd-af84-a3b7689155a7",
   "metadata": {},
   "outputs": [],
   "source": [
    "import cv2"
   ]
  },
  {
   "cell_type": "code",
   "execution_count": 5,
   "id": "e0b812d7-6b67-43c6-8fc2-c59d87abd0ee",
   "metadata": {},
   "outputs": [],
   "source": [
    "img = cv2.imread('Downloads/bright spot sample.jpeg')"
   ]
  },
  {
   "cell_type": "code",
   "execution_count": 6,
   "id": "88ed68e3-5cb4-4efe-b4b0-ef33aa931f19",
   "metadata": {},
   "outputs": [],
   "source": [
    "cv2.imshow(\"Image\",img)#naming the window\n",
    "cv2.waitKey(0)#time hai kab tk wait krna hai\n",
    "cv2.destroyAllWindows()#jobhi file ki windows open hongi unko band kr dega"
   ]
  },
  {
   "cell_type": "code",
   "execution_count": 9,
   "id": "eefe8a9f-2ba1-42d3-b30b-53608b32383f",
   "metadata": {},
   "outputs": [],
   "source": [
    "gray = cv2.cvtColor(img, cv2.COLOR_BGR2GRAY)"
   ]
  },
  {
   "cell_type": "code",
   "execution_count": 10,
   "id": "98e58a4c-b947-4b14-81d8-2d10c909bf79",
   "metadata": {},
   "outputs": [],
   "source": [
    "blurred = cv2.GaussianBlur(gray, (11, 11), 0)"
   ]
  },
  {
   "cell_type": "code",
   "execution_count": 15,
   "id": "8e4705c0-71fd-4ae9-b7e3-06a16a5cb308",
   "metadata": {},
   "outputs": [],
   "source": [
    "_, thresholded = cv2.threshold(blurred, 200, 255, cv2.THRESH_BINARY)"
   ]
  },
  {
   "cell_type": "code",
   "execution_count": 18,
   "id": "36b2efa3-bad1-4106-b8aa-5f313ba010fe",
   "metadata": {},
   "outputs": [],
   "source": [
    "# Find contours of the bright spots\n",
    "contours, _ = cv2.findContours(thresholded, cv2.RETR_EXTERNAL, cv2.CHAIN_APPROX_SIMPLE)"
   ]
  },
  {
   "cell_type": "code",
   "execution_count": 20,
   "id": "969fea94-0716-4d07-9ab7-e128195d26cd",
   "metadata": {},
   "outputs": [],
   "source": [
    "# Draw contours on the original image\n",
    "output = img.copy()\n",
    "cv2.drawContours(output, contours, -1, (0, 255, 0), 2)\n",
    "\n",
    "# Display the result\n",
    "cv2.imshow('Bright Spots', output)\n",
    "cv2.waitKey(0)\n",
    "cv2.destroyAllWindows()\n"
   ]
  },
  {
   "cell_type": "code",
   "execution_count": 26,
   "id": "7f4a2b21-8bb0-4e19-bb3f-d64259feb933",
   "metadata": {},
   "outputs": [],
   "source": [
    "for contour in contours:\n",
    "    (x, y, w, h) = cv2.boundingRect(contour)\n",
    "    cv2.circle(output, (x + w//2, y + h//2), 5, (255, 0, 0), -1)\n",
    "\n",
    "# Display the result with marked spots\n",
    "cv2.imshow('Marked Bright Spots', output)\n",
    "cv2.waitKey(0)\n",
    "cv2.destroyAllWindows()\n"
   ]
  }
 ],
 "metadata": {
  "kernelspec": {
   "display_name": "Python 3 (ipykernel)",
   "language": "python",
   "name": "python3"
  },
  "language_info": {
   "codemirror_mode": {
    "name": "ipython",
    "version": 3
   },
   "file_extension": ".py",
   "mimetype": "text/x-python",
   "name": "python",
   "nbconvert_exporter": "python",
   "pygments_lexer": "ipython3",
   "version": "3.12.4"
  }
 },
 "nbformat": 4,
 "nbformat_minor": 5
}
